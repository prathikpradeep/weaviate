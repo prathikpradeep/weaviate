{
 "cells": [
  {
   "cell_type": "code",
   "execution_count": 15,
   "id": "944dbcd9",
   "metadata": {},
   "outputs": [],
   "source": [
    "# !pip install datasets\n",
    "# !pip install openai\n",
    "# !pip install weaviate-client\n",
    "# !pip install python-dotenv"
   ]
  },
  {
   "cell_type": "code",
   "execution_count": 1,
   "id": "aa509c83",
   "metadata": {},
   "outputs": [],
   "source": [
    "import os\n",
    "import json\n",
    "import time\n",
    "import openai\n",
    "import weaviate\n",
    "import pandas as pd\n",
    "from datasets import load_dataset\n",
    "from dotenv import load_dotenv, find_dotenv"
   ]
  },
  {
   "cell_type": "code",
   "execution_count": 2,
   "id": "483b36e7",
   "metadata": {},
   "outputs": [],
   "source": [
    "# Function to print json data\n",
    "def json_print(data):\n",
    "    print(json.dumps(data, indent=2))"
   ]
  },
  {
   "cell_type": "code",
   "execution_count": 3,
   "id": "65cc4a82",
   "metadata": {},
   "outputs": [],
   "source": [
    "# Loading requirements\n",
    "_ = load_dotenv(find_dotenv(\"Requirements.env\")) # read local .env file"
   ]
  },
  {
   "cell_type": "code",
   "execution_count": 4,
   "id": "99e0a5a8",
   "metadata": {},
   "outputs": [],
   "source": [
    "# Retrieve OpenAI API keys\n",
    "openai.api_key = os.environ['OPENAI_API_KEY']"
   ]
  },
  {
   "cell_type": "code",
   "execution_count": 5,
   "id": "f342ced2",
   "metadata": {},
   "outputs": [],
   "source": [
    "# Loading dataset from Higging Face Datasets\n",
    "dataset = load_dataset('Jaymax/FDA_Pharmaceuticals_FAQ')"
   ]
  },
  {
   "cell_type": "code",
   "execution_count": 6,
   "id": "f4e009ed",
   "metadata": {},
   "outputs": [],
   "source": [
    "# Storing the train, val and test sets in different pandas dataframes\n",
    "df1 = pd.DataFrame.from_dict(dataset['train'])\n",
    "df2 = pd.DataFrame.from_dict(dataset['validation'])\n",
    "df3 = pd.DataFrame.from_dict(dataset['test'])\n",
    "\n",
    "# List with the dataframes to be concatenated\n",
    "frames = [df1, df2, df3]\n",
    "\n",
    "# Concatenating the dataframes and reseting the index\n",
    "df = pd.concat(frames)\n",
    "df.reset_index(drop=True, inplace=True)"
   ]
  },
  {
   "cell_type": "code",
   "execution_count": 7,
   "id": "bd196ca8",
   "metadata": {},
   "outputs": [
    {
     "data": {
      "text/html": [
       "<div>\n",
       "<style scoped>\n",
       "    .dataframe tbody tr th:only-of-type {\n",
       "        vertical-align: middle;\n",
       "    }\n",
       "\n",
       "    .dataframe tbody tr th {\n",
       "        vertical-align: top;\n",
       "    }\n",
       "\n",
       "    .dataframe thead th {\n",
       "        text-align: right;\n",
       "    }\n",
       "</style>\n",
       "<table border=\"1\" class=\"dataframe\">\n",
       "  <thead>\n",
       "    <tr style=\"text-align: right;\">\n",
       "      <th></th>\n",
       "      <th>Question</th>\n",
       "      <th>Answer</th>\n",
       "    </tr>\n",
       "  </thead>\n",
       "  <tbody>\n",
       "    <tr>\n",
       "      <th>0</th>\n",
       "      <td>Taking into account the content of Q7 Good Man...</td>\n",
       "      <td>Any change in the API starting material should...</td>\n",
       "    </tr>\n",
       "    <tr>\n",
       "      <th>1</th>\n",
       "      <td>Drawing from the insights of Labeling OTC Huma...</td>\n",
       "      <td>Fractions (e.g., 1/2) can be expressed in math...</td>\n",
       "    </tr>\n",
       "    <tr>\n",
       "      <th>2</th>\n",
       "      <td>According to the E14 Clinical Evaluation of QT...</td>\n",
       "      <td>A drug with low TdP risk would be expected to ...</td>\n",
       "    </tr>\n",
       "    <tr>\n",
       "      <th>3</th>\n",
       "      <td>As stated in Guidance for Industry- FDA's Poli...</td>\n",
       "      <td>In the Nutrition Facts label final rule (81 FR...</td>\n",
       "    </tr>\n",
       "    <tr>\n",
       "      <th>4</th>\n",
       "      <td>With reference to Assay Migration Studies for ...</td>\n",
       "      <td>Application which, when approved, allows the d...</td>\n",
       "    </tr>\n",
       "  </tbody>\n",
       "</table>\n",
       "</div>"
      ],
      "text/plain": [
       "                                            Question  \\\n",
       "0  Taking into account the content of Q7 Good Man...   \n",
       "1  Drawing from the insights of Labeling OTC Huma...   \n",
       "2  According to the E14 Clinical Evaluation of QT...   \n",
       "3  As stated in Guidance for Industry- FDA's Poli...   \n",
       "4  With reference to Assay Migration Studies for ...   \n",
       "\n",
       "                                              Answer  \n",
       "0  Any change in the API starting material should...  \n",
       "1  Fractions (e.g., 1/2) can be expressed in math...  \n",
       "2  A drug with low TdP risk would be expected to ...  \n",
       "3  In the Nutrition Facts label final rule (81 FR...  \n",
       "4  Application which, when approved, allows the d...  "
      ]
     },
     "execution_count": 7,
     "metadata": {},
     "output_type": "execute_result"
    }
   ],
   "source": [
    "# Displaying first 5 rows of data\n",
    "df.head()"
   ]
  },
  {
   "cell_type": "markdown",
   "id": "3a44165f",
   "metadata": {},
   "source": [
    "## Connect to Weaviate and load OpenAI embeddings model"
   ]
  },
  {
   "cell_type": "code",
   "execution_count": 9,
   "id": "615ee823",
   "metadata": {},
   "outputs": [
    {
     "name": "stderr",
     "output_type": "stream",
     "text": [
      "/Users/prathikpradeep/opt/anaconda3/lib/python3.9/site-packages/weaviate/warnings.py:162: DeprecationWarning: Dep016: Python client v3 `weaviate.Client(...)` connections and methods are deprecated. Update\n",
      "            your code to use Python client v4 `weaviate.WeaviateClient` connections and methods.\n",
      "\n",
      "            For Python Client v4 usage, see: https://weaviate.io/developers/weaviate/client-libraries/python\n",
      "            For code migration, see: https://weaviate.io/developers/weaviate/client-libraries/python/v3_v4_migration\n",
      "            \n",
      "  warnings.warn(\n"
     ]
    },
    {
     "data": {
      "text/plain": [
       "True"
      ]
     },
     "execution_count": 9,
     "metadata": {},
     "output_type": "execute_result"
    }
   ],
   "source": [
    "# Connect to your Weaviate instance\n",
    "client = weaviate.Client(\n",
    "    url= os.getenv('WEAVIATE_API_URL'),\n",
    "    # url=\"http://localhost:8080/\",\n",
    "    auth_client_secret=weaviate.auth.AuthApiKey(api_key = os.getenv('WEAVIATE_API_KEY')),\n",
    "    additional_headers={\n",
    "        \"X-OpenAI-Api-Key\": openai.api_key\n",
    "    }\n",
    ")\n",
    "\n",
    "# Check if your instance is live and ready\n",
    "# This should return `True`\n",
    "client.is_ready()"
   ]
  },
  {
   "cell_type": "code",
   "execution_count": 11,
   "id": "7fdef17d",
   "metadata": {},
   "outputs": [],
   "source": [
    "# Setting/resetting the schema. CAUTION: This will delete the existing schema\n",
    "if client.schema.exists(\"FAQ\"):\n",
    "    client.schema.delete_class(\"FAQ\")\n",
    "class_obj = {\n",
    "      \"class\": \"FAQ\",\n",
    "      \"vectorizer\": \"text2vec-openai\",\n",
    "      \"moduleConfig\": {\n",
    "        \"text2vec-openai\": {\n",
    "          \"model\": \"text-embedding-3-large\",\n",
    "          \"dimensions\": 3072,\n",
    "          \"type\": \"text\"\n",
    "        },\n",
    "        \"qna-openai\": {\n",
    "          \"model\": \"gpt-3.5-turbo-instruct\",\n",
    "          \"maxTokens\": 2000,\n",
    "          \"temperature\": 0.0,\n",
    "          \"topP\": 1,\n",
    "          \"frequencyPenalty\": 0.0,\n",
    "          \"presencePenalty\": 0.0\n",
    "        }\n",
    "    },\n",
    "    \"properties\": [{\n",
    "        \"name\": \"Question\",\n",
    "        \"description\": \"Questions in the FAQs\",\n",
    "        \"dataType\": [\"text\"]\n",
    "    },\n",
    "    {\n",
    "        \"name\": \"Answer\",\n",
    "        \"description\": \"Questions in the FAQs\",\n",
    "        \"dataType\": [\"text\"]\n",
    "    },\n",
    "    ]\n",
    "}\n",
    "client.schema.create_class(class_obj)\n",
    "\n",
    "# get the schema to make sure it worked\n",
    "client.schema.get()"
   ]
  },
  {
   "cell_type": "code",
   "execution_count": 12,
   "id": "1ace4606",
   "metadata": {},
   "outputs": [],
   "source": [
    "# Initialising batch size \n",
    "batch_size=5\n",
    "\n",
    "# Uploading data to weaviate in batches\n",
    "with client.batch.configure(batch_size = batch_size) as batch:\n",
    "    for i, row in df.iterrows():  # Batch import data\n",
    "        \n",
    "        print(f\"importing question: {i+1}\")\n",
    "        \n",
    "        properties = {\n",
    "            \"Question\": row[\"Question\"],\n",
    "            \"Answer\": row[\"Answer\"],\n",
    "        }\n",
    "        \n",
    "        batch.add_data_object(\n",
    "            data_object=properties,\n",
    "            class_name=\"FAQ\"\n",
    "        )"
   ]
  },
  {
   "cell_type": "code",
   "execution_count": 13,
   "id": "82af12b9",
   "metadata": {},
   "outputs": [
    {
     "name": "stdout",
     "output_type": "stream",
     "text": [
      "{\n",
      "  \"data\": {\n",
      "    \"Aggregate\": {\n",
      "      \"FAQ\": [\n",
      "        {\n",
      "          \"meta\": {\n",
      "            \"count\": 1681\n",
      "          }\n",
      "        }\n",
      "      ]\n",
      "    }\n",
      "  }\n",
      "}\n"
     ]
    }
   ],
   "source": [
    "# Printing cound of rows uploaded to FAQ schema in weaviate cluster\n",
    "count = client.query.aggregate(\"FAQ\").with_meta_count().do()\n",
    "json_print(count)"
   ]
  },
  {
   "cell_type": "code",
   "execution_count": 17,
   "id": "34661e3c",
   "metadata": {},
   "outputs": [],
   "source": [
    "# Extracting the vector for a question\n",
    "result = (client.query\n",
    "          .get(\"FAQ\", [\"question\", \"answer\"])\n",
    "          .with_additional(\"vector\")\n",
    "          .with_limit(1)\n",
    "          .do())\n",
    "\n",
    "json_print(result)"
   ]
  },
  {
   "cell_type": "code",
   "execution_count": 15,
   "id": "4de94a15",
   "metadata": {},
   "outputs": [
    {
     "name": "stdout",
     "output_type": "stream",
     "text": [
      "{\n",
      "  \"data\": {\n",
      "    \"Get\": {\n",
      "      \"FAQ\": [\n",
      "        {\n",
      "          \"_additional\": {\n",
      "            \"distance\": 0.26266968\n",
      "          },\n",
      "          \"answer\": \"A premarket approval (PMA) application is the most stringent type of device marketing application for medical devices. FDA approves a PMA if it determines that the application contains sufficient valid scientific evidence to provide reasonable assurance that the device is safe and effective for its intended use(s).\",\n",
      "          \"question\": \"As explained in FDA Decisions for Investigational Device Exemption Clinical Investigations Guidance for Sponsors, Clinical Investigators, Institutional Review Boards, and Food and Drug Administration Staff, What is a premarket approval (PMA) application?\"\n",
      "        },\n",
      "        {\n",
      "          \"_additional\": {\n",
      "            \"distance\": 0.3389851\n",
      "          },\n",
      "          \"answer\": \"The application for approval required prior to the marketing of most Class III medical devices (section 515 of the Act, 21 U.S.C.\\n\\n360e). (See definitions of Class I, II, and III devices above.) PMA approval is based on a determination by FDA that the applicant's submission provides sufficient valid scientific evidence to provide reasonable assurance that the device is safe and effective for its intended use(s). The PMA regulation is 21 CFR Part 814. PMA information is available at\\n\\nhttp://www.fda.gov/MedicalDevices/DeviceRegulationandGuidance/HowtoMarketYour\\n\\nDevice/PremarketSubmissions/PremarketApprovalPMA/default.htm.\",\n",
      "          \"question\": \"Taking into account the content of Assay Migration Studies for In Vitro Diagnostic Devices Guidance for Industry and FDA Staff, What is a \\\"Premarket Approval Application (PMA)\\\"?\"\n",
      "        },\n",
      "        {\n",
      "          \"_additional\": {\n",
      "            \"distance\": 0.4611163\n",
      "          },\n",
      "          \"answer\": \"The PMA information, found at http://www.fda.gov/MedicalDevices/ProductsandMedicalProcedures/DeviceAppro valsandClearances/PMAApprovals/default.htm\",\n",
      "          \"question\": \"In light of the details from Assay Migration Studies for In Vitro Diagnostic Devices Guidance for Industry and FDA Staff, Where can I find information about PMA approvals?\"\n",
      "        }\n",
      "      ]\n",
      "    }\n",
      "  }\n",
      "}\n"
     ]
    }
   ],
   "source": [
    "# Top 3 similar question and answer pairs to \"What is a Premarket Approval Application (PMA)\"\n",
    "response = (client.query\n",
    "            .get(\"FAQ\",[\"question\",\"answer\"])\n",
    "            .with_near_text({\"concepts\": \"What is a Premarket Approval Application (PMA)\"})\n",
    "            .with_additional('distance')\n",
    "            .with_limit(3)\n",
    "            .do()\n",
    "            )\n",
    "\n",
    "json_print(response)"
   ]
  },
  {
   "cell_type": "markdown",
   "id": "1938f614",
   "metadata": {},
   "source": [
    "# Question Answering Generation"
   ]
  },
  {
   "cell_type": "code",
   "execution_count": 19,
   "id": "62290abe",
   "metadata": {},
   "outputs": [
    {
     "name": "stdout",
     "output_type": "stream",
     "text": [
      "{\n",
      "  \"data\": {\n",
      "    \"Get\": {\n",
      "      \"FAQ\": [\n",
      "        {\n",
      "          \"_additional\": {\n",
      "            \"answer\": {\n",
      "              \"hasAnswer\": true,\n",
      "              \"result\": \" According to the comparison on the FDA's Good Clinical Practice program website, the FDA regulations for protection of human subjects differ from HHS regulations in several ways. Some key differences include the scope of coverage, the definition of \\\"human subject,\\\" and the requirements for informed consent. For more information on these differences, please refer to the Office for Human Research Protections at http://www.hhs.gov/ohrp/humansubjects/guidance/45cfr46.htm.\"\n",
      "            },\n",
      "            \"distance\": 0.29862797\n",
      "          },\n",
      "          \"answer\": \"A general comparison appears in the FDA's Good Clinical Practice program website, Comparison of FDA and HHS Human Subject Protection Regulations found at\\n\\nhttp://www.fda.gov/ScienceResearch/SpecialTopics/RunningClinicalTrials/EducaionalMaterials/ucm112910.htm. For additional information on 45 CFR Part 46\\n\\nsubpart A refer to the Office for Human Research Protections at\\n\\nhttp://www.hhs.gov/ohrp/humansubjects/guidance/45cfr46.htm.\",\n",
      "          \"question\": \"Guideline title: Assay Migration Studies for In Vitro Diagnostic Devices Guidance for Industry and FDA Staff How do FDA regulations for protection of human subjects, 21 CFR Parts 50 and 56, differ from HHS regulations in 45 CFR Part 46 subpart A?\"\n",
      "        }\n",
      "      ]\n",
      "    }\n",
      "  }\n",
      "}\n"
     ]
    }
   ],
   "source": [
    "# Prompt used to generate seach answer\n",
    "generate_prompt = \"\"\"How do FDA regulations for protection of human subjects differ from HHS \n",
    "                     regulations? Give me any associated links\"\"\"\n",
    "\n",
    "# Output properties\n",
    "properties = [\n",
    "        \"question\", \"answer\",\n",
    "        \"_additional { answer { hasAnswer result } distance }\"\n",
    "    ]\n",
    "# Dictionary containing the prompting information\n",
    "ask = {\n",
    "        \"question\": generate_prompt,\n",
    "        \"properties\": [\"answer\"]\n",
    "    }\n",
    "\n",
    "# Generative search\n",
    "result = (\n",
    "  client.query\n",
    "  .get(\"FAQ\", properties)\n",
    "  .with_ask(ask)\n",
    "  .with_limit(1)\n",
    ").do()\n",
    "\n",
    "json_print(result)"
   ]
  }
 ],
 "metadata": {
  "kernelspec": {
   "display_name": "Python 3 (ipykernel)",
   "language": "python",
   "name": "python3"
  },
  "language_info": {
   "codemirror_mode": {
    "name": "ipython",
    "version": 3
   },
   "file_extension": ".py",
   "mimetype": "text/x-python",
   "name": "python",
   "nbconvert_exporter": "python",
   "pygments_lexer": "ipython3",
   "version": "3.9.13"
  }
 },
 "nbformat": 4,
 "nbformat_minor": 5
}
